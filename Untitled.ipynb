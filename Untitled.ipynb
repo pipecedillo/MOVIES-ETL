{
 "cells": [
  {
   "cell_type": "code",
   "execution_count": null,
   "id": "4460e2f5",
   "metadata": {},
   "outputs": [],
   "source": []
  }
 ],
 "metadata": {
  "kernelspec": {
   "display_name": "Python [conda env:Pythondata2] *",
   "language": "python",
   "name": "conda-env-Pythondata2-py"
  },
  "language_info": {
   "codemirror_mode": {
    "name": "ipython",
    "version": 3
   },
   "file_extension": ".py",
   "mimetype": "text/x-python",
   "name": "python",
   "nbconvert_exporter": "python",
   "pygments_lexer": "ipython3",
   "version": "3.9.7"
  }
 },
 "nbformat": 4,
 "nbformat_minor": 5
}
